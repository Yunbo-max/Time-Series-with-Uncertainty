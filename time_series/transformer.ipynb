{
 "cells": [
  {
   "cell_type": "code",
   "execution_count": 1,
   "metadata": {},
   "outputs": [],
   "source": [
    "import torch\n",
    "import torch.nn as nn\n",
    "import torch.optim as optim\n",
    "import torch.utils.data as data\n",
    "import math\n",
    "import copy"
   ]
  },
  {
   "cell_type": "markdown",
   "metadata": {},
   "source": [
    "# Multi-head Attention"
   ]
  },
  {
   "cell_type": "code",
   "execution_count": 2,
   "metadata": {},
   "outputs": [],
   "source": [
    "class MultiHeadAttention(nn.Module):\n",
    "    def __init__(self, d_model, num_heads):\n",
    "        super(MultiHeadAttention, self).__init__()\n",
    "        # Ensure that the model dimension (d_model) is divisible by the number of heads\n",
    "        assert d_model % num_heads == 0, \"d_model must be divisible by num_heads\"\n",
    "        \n",
    "        # Initialize dimensions\n",
    "        self.d_model = d_model # Model's dimension\n",
    "        self.num_heads = num_heads # Number of attention heads\n",
    "        self.d_k = d_model // num_heads # Dimension of each head's key, query, and value\n",
    "        \n",
    "        # Linear layers for transforming inputs\n",
    "        self.W_q = nn.Linear(d_model, d_model) # Query transformation\n",
    "        self.W_k = nn.Linear(d_model, d_model) # Key transformation\n",
    "        self.W_v = nn.Linear(d_model, d_model) # Value transformation\n",
    "        self.W_o = nn.Linear(d_model, d_model) # Output transformation\n",
    "        \n",
    "    def scaled_dot_product_attention(self, Q, K, V, mask=None):\n",
    "        # Calculate attention scores\n",
    "        attn_scores = torch.matmul(Q, K.transpose(-2, -1)) / math.sqrt(self.d_k)\n",
    "        \n",
    "        # Apply mask if provided (useful for preventing attention to certain parts like padding)\n",
    "        if mask is not None:\n",
    "            attn_scores = attn_scores.masked_fill(mask == 0, -1e9)\n",
    "        \n",
    "        # Softmax is applied to obtain attention probabilities\n",
    "        attn_probs = torch.softmax(attn_scores, dim=-1)\n",
    "        \n",
    "        # Multiply by values to obtain the final output\n",
    "        output = torch.matmul(attn_probs, V)\n",
    "        return output\n",
    "        \n",
    "    def split_heads(self, x):\n",
    "        # Reshape the input to have num_heads for multi-head attention\n",
    "        batch_size, seq_length, d_model = x.size()\n",
    "        return x.view(batch_size, seq_length, self.num_heads, self.d_k).transpose(1, 2)\n",
    "        \n",
    "    def combine_heads(self, x):\n",
    "        # Combine the multiple heads back to original shape\n",
    "        batch_size, _, seq_length, d_k = x.size()\n",
    "        return x.transpose(1, 2).contiguous().view(batch_size, seq_length, self.d_model)\n",
    "        \n",
    "    def forward(self, Q, K, V, mask=None):\n",
    "        # Apply linear transformations and split heads\n",
    "        Q = self.split_heads(self.W_q(Q))\n",
    "        K = self.split_heads(self.W_k(K))\n",
    "        V = self.split_heads(self.W_v(V))\n",
    "        \n",
    "        # Perform scaled dot-product attention\n",
    "        attn_output = self.scaled_dot_product_attention(Q, K, V, mask)\n",
    "        \n",
    "        # Combine heads and apply output transformation\n",
    "        output = self.W_o(self.combine_heads(attn_output))\n",
    "        return output"
   ]
  },
  {
   "cell_type": "markdown",
   "metadata": {},
   "source": [
    "# Position-wise Feed-Forward Networks"
   ]
  },
  {
   "cell_type": "code",
   "execution_count": 3,
   "metadata": {},
   "outputs": [],
   "source": [
    "class PositionWiseFeedForward(nn.Module):\n",
    "    def __init__(self, d_model, d_ff):\n",
    "        super(PositionWiseFeedForward, self).__init__()\n",
    "        self.fc1 = nn.Linear(d_model, d_ff)\n",
    "        self.fc2 = nn.Linear(d_ff, d_model)\n",
    "        self.relu = nn.ReLU()\n",
    "\n",
    "    def forward(self, x):\n",
    "        return self.fc2(self.relu(self.fc1(x)))"
   ]
  },
  {
   "cell_type": "markdown",
   "metadata": {},
   "source": [
    "# Positional Encoding"
   ]
  },
  {
   "cell_type": "code",
   "execution_count": 4,
   "metadata": {},
   "outputs": [],
   "source": [
    "class PositionalEncoding(nn.Module):\n",
    "    def __init__(self, d_model, max_seq_length):\n",
    "        super(PositionalEncoding, self).__init__()\n",
    "        \n",
    "        pe = torch.zeros(max_seq_length, d_model)\n",
    "        position = torch.arange(0, max_seq_length, dtype=torch.float).unsqueeze(1)\n",
    "        div_term = torch.exp(torch.arange(0, d_model, 2).float() * -(math.log(10000.0) / d_model))\n",
    "        \n",
    "        pe[:, 0::2] = torch.sin(position * div_term)\n",
    "        pe[:, 1::2] = torch.cos(position * div_term)\n",
    "        \n",
    "        self.register_buffer('pe', pe.unsqueeze(0))\n",
    "        \n",
    "    def forward(self, x):\n",
    "        return x + self.pe[:, :x.size(1)]"
   ]
  },
  {
   "cell_type": "markdown",
   "metadata": {},
   "source": [
    "# Building the Encoder Blocks"
   ]
  },
  {
   "cell_type": "code",
   "execution_count": 5,
   "metadata": {},
   "outputs": [],
   "source": [
    "class EncoderLayer(nn.Module):\n",
    "    def __init__(self, d_model, num_heads, d_ff, dropout):\n",
    "        super(EncoderLayer, self).__init__()\n",
    "        self.self_attn = MultiHeadAttention(d_model, num_heads)\n",
    "        self.feed_forward = PositionWiseFeedForward(d_model, d_ff)\n",
    "        self.norm1 = nn.LayerNorm(d_model)\n",
    "        self.norm2 = nn.LayerNorm(d_model)\n",
    "        self.dropout = nn.Dropout(dropout)\n",
    "        \n",
    "    def forward(self, x, mask):\n",
    "        attn_output = self.self_attn(x, x, x, mask)\n",
    "        x = self.norm1(x + self.dropout(attn_output))\n",
    "        ff_output = self.feed_forward(x)\n",
    "        x = self.norm2(x + self.dropout(ff_output))\n",
    "        return x"
   ]
  },
  {
   "cell_type": "markdown",
   "metadata": {},
   "source": [
    "# Building the Decoder Blocks"
   ]
  },
  {
   "cell_type": "code",
   "execution_count": 6,
   "metadata": {},
   "outputs": [],
   "source": [
    "class DecoderLayer(nn.Module):\n",
    "    def __init__(self, d_model, num_heads, d_ff, dropout):\n",
    "        super(DecoderLayer, self).__init__()\n",
    "        self.self_attn = MultiHeadAttention(d_model, num_heads)\n",
    "        self.cross_attn = MultiHeadAttention(d_model, num_heads)\n",
    "        self.feed_forward = PositionWiseFeedForward(d_model, d_ff)\n",
    "        self.norm1 = nn.LayerNorm(d_model)\n",
    "        self.norm2 = nn.LayerNorm(d_model)\n",
    "        self.norm3 = nn.LayerNorm(d_model)\n",
    "        self.dropout = nn.Dropout(dropout)\n",
    "        \n",
    "    def forward(self, x, enc_output, src_mask, tgt_mask):\n",
    "        attn_output = self.self_attn(x, x, x, tgt_mask)\n",
    "        x = self.norm1(x + self.dropout(attn_output))\n",
    "        attn_output = self.cross_attn(x, enc_output, enc_output, src_mask)\n",
    "        x = self.norm2(x + self.dropout(attn_output))\n",
    "        ff_output = self.feed_forward(x)\n",
    "        x = self.norm3(x + self.dropout(ff_output))\n",
    "        return x"
   ]
  },
  {
   "cell_type": "markdown",
   "metadata": {},
   "source": [
    "# Combined"
   ]
  },
  {
   "cell_type": "code",
   "execution_count": 7,
   "metadata": {},
   "outputs": [],
   "source": [
    "class Transformer(nn.Module):\n",
    "    def __init__(self, src_vocab_size, tgt_vocab_size, d_model, num_heads, num_layers, d_ff, max_seq_length, dropout):\n",
    "        super(Transformer, self).__init__()\n",
    "        self.encoder_embedding = nn.Embedding(src_vocab_size, d_model)\n",
    "        self.decoder_embedding = nn.Embedding(tgt_vocab_size, d_model)\n",
    "        self.positional_encoding = PositionalEncoding(d_model, max_seq_length)\n",
    "\n",
    "        self.encoder_layers = nn.ModuleList([EncoderLayer(d_model, num_heads, d_ff, dropout) for _ in range(num_layers)])\n",
    "        self.decoder_layers = nn.ModuleList([DecoderLayer(d_model, num_heads, d_ff, dropout) for _ in range(num_layers)])\n",
    "\n",
    "        self.fc = nn.Linear(d_model, tgt_vocab_size)\n",
    "        self.dropout = nn.Dropout(dropout)\n",
    "\n",
    "    def generate_mask(self, src, tgt):\n",
    "        src_mask = (src != 0).unsqueeze(1).unsqueeze(2)\n",
    "        tgt_mask = (tgt != 0).unsqueeze(1).unsqueeze(3)\n",
    "        seq_length = tgt.size(1)\n",
    "        nopeak_mask = (1 - torch.triu(torch.ones(1, seq_length, seq_length), diagonal=1)).bool()\n",
    "        tgt_mask = tgt_mask & nopeak_mask\n",
    "        return src_mask, tgt_mask\n",
    "\n",
    "    def forward(self, src, tgt):\n",
    "        src_mask, tgt_mask = self.generate_mask(src, tgt)\n",
    "        src_embedded = self.dropout(self.positional_encoding(self.encoder_embedding(src)))\n",
    "        tgt_embedded = self.dropout(self.positional_encoding(self.decoder_embedding(tgt)))\n",
    "\n",
    "        enc_output = src_embedded\n",
    "        for enc_layer in self.encoder_layers:\n",
    "            enc_output = enc_layer(enc_output, src_mask)\n",
    "\n",
    "        dec_output = tgt_embedded\n",
    "        for dec_layer in self.decoder_layers:\n",
    "            dec_output = dec_layer(dec_output, enc_output, src_mask, tgt_mask)\n",
    "\n",
    "        output = self.fc(dec_output)\n",
    "        return output"
   ]
  },
  {
   "cell_type": "markdown",
   "metadata": {},
   "source": [
    "# Training"
   ]
  },
  {
   "cell_type": "code",
   "execution_count": 8,
   "metadata": {},
   "outputs": [],
   "source": [
    "src_vocab_size = 5000\n",
    "tgt_vocab_size = 5000\n",
    "d_model = 512\n",
    "num_heads = 8\n",
    "num_layers = 6\n",
    "d_ff = 2048\n",
    "max_seq_length = 100\n",
    "dropout = 0.1\n",
    "\n",
    "transformer = Transformer(src_vocab_size, tgt_vocab_size, d_model, num_heads, num_layers, d_ff, max_seq_length, dropout)\n",
    "\n",
    "# Generate random sample data\n",
    "src_data = torch.randint(1, src_vocab_size, (64, max_seq_length))  # (batch_size, seq_length)\n",
    "tgt_data = torch.randint(1, tgt_vocab_size, (64, max_seq_length))  # (batch_size, seq_length)\n",
    "\n",
    "transformer = Transformer(src_vocab_size, tgt_vocab_size, d_model, num_heads, num_layers, d_ff, max_seq_length, dropout)"
   ]
  },
  {
   "cell_type": "code",
   "execution_count": 9,
   "metadata": {},
   "outputs": [
    {
     "name": "stdout",
     "output_type": "stream",
     "text": [
      "Epoch: 1, Loss: 8.681156158447266\n",
      "Epoch: 2, Loss: 8.553380966186523\n",
      "Epoch: 3, Loss: 8.484912872314453\n",
      "Epoch: 4, Loss: 8.42983627319336\n",
      "Epoch: 5, Loss: 8.37801742553711\n",
      "Epoch: 6, Loss: 8.317899703979492\n",
      "Epoch: 7, Loss: 8.233232498168945\n",
      "Epoch: 8, Loss: 8.157857894897461\n",
      "Epoch: 9, Loss: 8.075563430786133\n",
      "Epoch: 10, Loss: 7.999339580535889\n",
      "Epoch: 11, Loss: 7.92427396774292\n",
      "Epoch: 12, Loss: 7.837684154510498\n",
      "Epoch: 13, Loss: 7.754984378814697\n",
      "Epoch: 14, Loss: 7.673054218292236\n",
      "Epoch: 15, Loss: 7.58702278137207\n",
      "Epoch: 16, Loss: 7.508657932281494\n",
      "Epoch: 17, Loss: 7.425422668457031\n",
      "Epoch: 18, Loss: 7.342875003814697\n",
      "Epoch: 19, Loss: 7.258487701416016\n",
      "Epoch: 20, Loss: 7.1884684562683105\n",
      "Epoch: 21, Loss: 7.098684787750244\n",
      "Epoch: 22, Loss: 7.026739120483398\n",
      "Epoch: 23, Loss: 6.950343132019043\n",
      "Epoch: 24, Loss: 6.86533260345459\n",
      "Epoch: 25, Loss: 6.794923305511475\n",
      "Epoch: 26, Loss: 6.713772296905518\n",
      "Epoch: 27, Loss: 6.643938064575195\n",
      "Epoch: 28, Loss: 6.572910308837891\n",
      "Epoch: 29, Loss: 6.506865501403809\n",
      "Epoch: 30, Loss: 6.426772594451904\n",
      "Epoch: 31, Loss: 6.35856819152832\n",
      "Epoch: 32, Loss: 6.285919666290283\n",
      "Epoch: 33, Loss: 6.223828315734863\n",
      "Epoch: 34, Loss: 6.162350654602051\n",
      "Epoch: 35, Loss: 6.093466281890869\n",
      "Epoch: 36, Loss: 6.015623569488525\n",
      "Epoch: 37, Loss: 5.95292329788208\n",
      "Epoch: 38, Loss: 5.8939385414123535\n",
      "Epoch: 39, Loss: 5.824485778808594\n",
      "Epoch: 40, Loss: 5.76356315612793\n",
      "Epoch: 41, Loss: 5.699671745300293\n",
      "Epoch: 42, Loss: 5.640921592712402\n",
      "Epoch: 43, Loss: 5.574551582336426\n",
      "Epoch: 44, Loss: 5.5159125328063965\n",
      "Epoch: 45, Loss: 5.451192378997803\n",
      "Epoch: 46, Loss: 5.397905349731445\n",
      "Epoch: 47, Loss: 5.337982654571533\n",
      "Epoch: 48, Loss: 5.282608985900879\n",
      "Epoch: 49, Loss: 5.221027374267578\n",
      "Epoch: 50, Loss: 5.161006927490234\n",
      "Epoch: 51, Loss: 5.104366302490234\n",
      "Epoch: 52, Loss: 5.047420501708984\n",
      "Epoch: 53, Loss: 4.998652458190918\n",
      "Epoch: 54, Loss: 4.942144870758057\n",
      "Epoch: 55, Loss: 4.893608093261719\n",
      "Epoch: 56, Loss: 4.836361408233643\n",
      "Epoch: 57, Loss: 4.773812294006348\n",
      "Epoch: 58, Loss: 4.717835426330566\n",
      "Epoch: 59, Loss: 4.670065402984619\n",
      "Epoch: 60, Loss: 4.6122517585754395\n",
      "Epoch: 61, Loss: 4.562851905822754\n",
      "Epoch: 62, Loss: 4.5150837898254395\n",
      "Epoch: 63, Loss: 4.465606689453125\n",
      "Epoch: 64, Loss: 4.407028675079346\n",
      "Epoch: 65, Loss: 4.358333587646484\n",
      "Epoch: 66, Loss: 4.308033466339111\n",
      "Epoch: 67, Loss: 4.261544704437256\n",
      "Epoch: 68, Loss: 4.209038734436035\n",
      "Epoch: 69, Loss: 4.158597946166992\n",
      "Epoch: 70, Loss: 4.118903160095215\n",
      "Epoch: 71, Loss: 4.066791534423828\n",
      "Epoch: 72, Loss: 4.013415813446045\n",
      "Epoch: 73, Loss: 3.9653496742248535\n",
      "Epoch: 74, Loss: 3.915922164916992\n",
      "Epoch: 75, Loss: 3.865407705307007\n",
      "Epoch: 76, Loss: 3.8145365715026855\n",
      "Epoch: 77, Loss: 3.7598836421966553\n",
      "Epoch: 78, Loss: 3.722755193710327\n",
      "Epoch: 79, Loss: 3.6776835918426514\n",
      "Epoch: 80, Loss: 3.6272854804992676\n",
      "Epoch: 81, Loss: 3.5870065689086914\n",
      "Epoch: 82, Loss: 3.5387344360351562\n",
      "Epoch: 83, Loss: 3.493898630142212\n",
      "Epoch: 84, Loss: 3.4472174644470215\n",
      "Epoch: 85, Loss: 3.3959412574768066\n",
      "Epoch: 86, Loss: 3.3559787273406982\n",
      "Epoch: 87, Loss: 3.3041493892669678\n",
      "Epoch: 88, Loss: 3.2585830688476562\n",
      "Epoch: 89, Loss: 3.2157342433929443\n",
      "Epoch: 90, Loss: 3.1784274578094482\n",
      "Epoch: 91, Loss: 3.1367757320404053\n",
      "Epoch: 92, Loss: 3.08945631980896\n",
      "Epoch: 93, Loss: 3.0442848205566406\n",
      "Epoch: 94, Loss: 3.000300645828247\n",
      "Epoch: 95, Loss: 2.9555983543395996\n",
      "Epoch: 96, Loss: 2.9154298305511475\n",
      "Epoch: 97, Loss: 2.873798131942749\n",
      "Epoch: 98, Loss: 2.839717388153076\n",
      "Epoch: 99, Loss: 2.7936415672302246\n",
      "Epoch: 100, Loss: 2.747072696685791\n"
     ]
    }
   ],
   "source": [
    "criterion = nn.CrossEntropyLoss(ignore_index=0)\n",
    "optimizer = optim.Adam(transformer.parameters(), lr=0.0001, betas=(0.9, 0.98), eps=1e-9)\n",
    "\n",
    "transformer.train()\n",
    "\n",
    "for epoch in range(100):\n",
    "    optimizer.zero_grad()\n",
    "    output = transformer(src_data, tgt_data[:, :-1])\n",
    "    loss = criterion(output.contiguous().view(-1, tgt_vocab_size), tgt_data[:, 1:].contiguous().view(-1))\n",
    "    loss.backward()\n",
    "    optimizer.step()\n",
    "    print(f\"Epoch: {epoch+1}, Loss: {loss.item()}\")"
   ]
  },
  {
   "cell_type": "markdown",
   "metadata": {},
   "source": [
    "# Evaluation"
   ]
  },
  {
   "cell_type": "code",
   "execution_count": 10,
   "metadata": {},
   "outputs": [
    {
     "name": "stdout",
     "output_type": "stream",
     "text": [
      "Validation Loss: 8.833690643310547\n"
     ]
    }
   ],
   "source": [
    "transformer.eval()\n",
    "\n",
    "# Generate random sample validation data\n",
    "val_src_data = torch.randint(1, src_vocab_size, (64, max_seq_length))  # (batch_size, seq_length)\n",
    "val_tgt_data = torch.randint(1, tgt_vocab_size, (64, max_seq_length))  # (batch_size, seq_length)\n",
    "\n",
    "with torch.no_grad():\n",
    "\n",
    "    val_output = transformer(val_src_data, val_tgt_data[:, :-1])\n",
    "    val_loss = criterion(val_output.contiguous().view(-1, tgt_vocab_size), val_tgt_data[:, 1:].contiguous().view(-1))\n",
    "    print(f\"Validation Loss: {val_loss.item()}\")"
   ]
  }
 ],
 "metadata": {
  "kernelspec": {
   "display_name": "basic",
   "language": "python",
   "name": "python3"
  },
  "language_info": {
   "codemirror_mode": {
    "name": "ipython",
    "version": 3
   },
   "file_extension": ".py",
   "mimetype": "text/x-python",
   "name": "python",
   "nbconvert_exporter": "python",
   "pygments_lexer": "ipython3",
   "version": "3.9.18"
  }
 },
 "nbformat": 4,
 "nbformat_minor": 2
}
